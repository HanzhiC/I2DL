{
 "cells": [
  {
   "cell_type": "markdown",
   "metadata": {},
   "source": [
    "# Fully-Connected Neural Nets\n",
    "In the previous homework you implemented a fully-connected two-layer neural network on CIFAR-10. The implementation was simple but not very modular since the loss and gradient were computed in a single monolithic function. This is manageable for a simple two-layer network, but would become impractical as we move to bigger models. Ideally we want to build networks using a more modular design so that we can implement different layer types in isolation and then snap them together into models with different architectures.\n",
    "\n",
    "In this exercise we will implement fully-connected networks using a more modular approach. For each layer we will implement a `forward` and a `backward` function. The `forward` function will receive inputs, weights, and other parameters and will return both an output and a `cache` object storing data needed for the backward pass, like this:\n",
    "\n",
    "```python\n",
    "def layer_forward(x, w):\n",
    "  \"\"\" Receive inputs x and weights w \"\"\"\n",
    "  # Do some computations ...\n",
    "  z = # ... some intermediate value\n",
    "  # Do some more computations ...\n",
    "  out = # the output\n",
    "   \n",
    "  cache = (x, w, z, out) # Values we need to compute gradients\n",
    "   \n",
    "  return out, cache\n",
    "```\n",
    "\n",
    "The backward pass will receive upstream derivatives and the `cache` object, and will return gradients with respect to the inputs and weights, like this:\n",
    "\n",
    "```python\n",
    "def layer_backward(dout, cache):\n",
    "  \"\"\"\n",
    "  Receive derivative of loss with respect to outputs and cache,\n",
    "  and compute derivative with respect to inputs.\n",
    "  \"\"\"\n",
    "  # Unpack cache values\n",
    "  x, w, z, out = cache\n",
    "  \n",
    "  # Use values in cache to compute derivatives\n",
    "  dx = # Derivative of loss with respect to x\n",
    "  dw = # Derivative of loss with respect to w\n",
    "  \n",
    "  return dx, dw\n",
    "```\n",
    "\n",
    "After implementing a bunch of layers this way, we will be able to easily combine them to build classifiers with different architectures.\n",
    "\n",
    "In addition to implementing fully-connected networks of arbitrary depth, we will also explore different update rules for optimization, and introduce Dropout as a regularizer and Batch Normalization as a tool to more efficiently optimize deep networks.\n",
    "  "
   ]
  },
  {
   "cell_type": "code",
   "execution_count": 1,
   "metadata": {},
   "outputs": [],
   "source": [
    "# As usual, a bit of setup\n",
    "\n",
    "import time\n",
    "import numpy as np\n",
    "import matplotlib.pyplot as plt\n",
    "from exercise_code.classifiers.fc_net import *\n",
    "from exercise_code.data_utils import get_CIFAR10_data\n",
    "from exercise_code.gradient_check import eval_numerical_gradient, eval_numerical_gradient_array\n",
    "from exercise_code.solver import Solver\n",
    "\n",
    "%matplotlib inline\n",
    "plt.rcParams['figure.figsize'] = (10.0, 8.0) # set default size of plots\n",
    "plt.rcParams['image.interpolation'] = 'nearest'\n",
    "plt.rcParams['image.cmap'] = 'gray'\n",
    "\n",
    "# for auto-reloading external modules\n",
    "# see http://stackoverflow.com/questions/1907993/autoreload-of-modules-in-ipython\n",
    "%load_ext autoreload\n",
    "%autoreload 2\n",
    "\n",
    "# supress cluttering warnings in solutions\n",
    "import warnings\n",
    "warnings.filterwarnings('ignore')\n",
    "\n",
    "def rel_error(x, y):\n",
    "  \"\"\" returns relative error \"\"\"\n",
    "  return np.max(np.abs(x - y) / (np.maximum(1e-8, np.abs(x) + np.abs(y))))"
   ]
  },
  {
   "cell_type": "code",
   "execution_count": 2,
   "metadata": {},
   "outputs": [
    {
     "name": "stdout",
     "output_type": "stream",
     "text": [
      "X_train:  (48000, 3, 32, 32)\n",
      "y_train:  (48000,)\n",
      "X_val:  (1000, 3, 32, 32)\n",
      "y_val:  (1000,)\n",
      "X_test:  (1000, 3, 32, 32)\n",
      "y_test:  (1000,)\n"
     ]
    }
   ],
   "source": [
    "# Load the (preprocessed) CIFAR10 data.\n",
    "\n",
    "data = get_CIFAR10_data()\n",
    "for k, v in data.items():\n",
    "    print('%s: ' % k, v.shape)"
   ]
  },
  {
   "cell_type": "markdown",
   "metadata": {},
   "source": [
    "# Affine layer: foward\n",
    "Open the file `exercise_code/layers.py` and implement the `affine_forward` function.\n",
    "\n",
    "Once you are done you can test your implementaion by running the following:"
   ]
  },
  {
   "cell_type": "code",
   "execution_count": 3,
   "metadata": {},
   "outputs": [
    {
     "name": "stdout",
     "output_type": "stream",
     "text": [
      "Testing affine_forward function:\n",
      "difference:  9.769847728806635e-10\n"
     ]
    }
   ],
   "source": [
    "# Test the affine_forward function\n",
    "\n",
    "num_inputs = 2\n",
    "input_shape = (4, 5, 6)\n",
    "output_dim = 3\n",
    "\n",
    "input_size = num_inputs * np.prod(input_shape)\n",
    "weight_size = output_dim * np.prod(input_shape)\n",
    "\n",
    "x = np.linspace(-0.1, 0.5, num=input_size).reshape(num_inputs, *input_shape)\n",
    "w = np.linspace(-0.2, 0.3, num=weight_size).reshape(np.prod(input_shape), output_dim)\n",
    "b = np.linspace(-0.3, 0.1, num=output_dim)\n",
    "\n",
    "out, _ = affine_forward(x, w, b)\n",
    "correct_out = np.array([[ 1.49834967,  1.70660132,  1.91485297],\n",
    "                        [ 3.25553199,  3.5141327,   3.77273342]])\n",
    "\n",
    "# Compare your output with ours. The error should be around 1e-9.\n",
    "print('Testing affine_forward function:')\n",
    "print('difference: ', rel_error(out, correct_out))"
   ]
  },
  {
   "cell_type": "markdown",
   "metadata": {},
   "source": [
    "# Affine layer: backward\n",
    "Now implement the `affine_backward` function and test your implementation using numeric gradient checking."
   ]
  },
  {
   "cell_type": "code",
   "execution_count": 4,
   "metadata": {},
   "outputs": [
    {
     "name": "stdout",
     "output_type": "stream",
     "text": [
      "Testing affine_backward function:\n",
      "dx error:  2.8949150321011323e-10\n",
      "dw error:  1.789374199199001e-10\n",
      "db error:  4.344335188762068e-12\n"
     ]
    }
   ],
   "source": [
    "# Test the affine_backward function\n",
    "\n",
    "x = np.random.randn(10, 2, 3)\n",
    "w = np.random.randn(6, 5)\n",
    "b = np.random.randn(5)\n",
    "dout = np.random.randn(10, 5)\n",
    "\n",
    "dx_num = eval_numerical_gradient_array(lambda x: affine_forward(x, w, b)[0], x, dout)\n",
    "dw_num = eval_numerical_gradient_array(lambda w: affine_forward(x, w, b)[0], w, dout)\n",
    "db_num = eval_numerical_gradient_array(lambda b: affine_forward(x, w, b)[0], b, dout)\n",
    "\n",
    "_, cache = affine_forward(x, w, b)\n",
    "dx, dw, db = affine_backward(dout, cache)\n",
    "\n",
    "# The error should be around 1e-10\n",
    "print('Testing affine_backward function:')\n",
    "print('dx error: ', rel_error(dx_num, dx))\n",
    "print('dw error: ', rel_error(dw_num, dw))\n",
    "print('db error: ', rel_error(db_num, db))"
   ]
  },
  {
   "cell_type": "markdown",
   "metadata": {},
   "source": [
    "# ReLU layer: forward\n",
    "Implement the forward pass for the ReLU activation function in the `relu_forward` function and test your implementation using the following:"
   ]
  },
  {
   "cell_type": "code",
   "execution_count": 5,
   "metadata": {},
   "outputs": [
    {
     "name": "stdout",
     "output_type": "stream",
     "text": [
      "Testing relu_forward function:\n",
      "difference:  4.999999798022158e-08\n"
     ]
    }
   ],
   "source": [
    "# Test the relu_forward function\n",
    "\n",
    "x = np.linspace(-0.5, 0.5, num=12).reshape(3, 4)\n",
    "\n",
    "out, _ = relu_forward(x)\n",
    "correct_out = np.array([[ 0.,          0.,          0.,          0.,        ],\n",
    "                        [ 0.,          0.,          0.04545455,  0.13636364,],\n",
    "                        [ 0.22727273,  0.31818182,  0.40909091,  0.5,       ]])\n",
    "\n",
    "# Compare your output with ours. The error should be around 1e-8\n",
    "print('Testing relu_forward function:')\n",
    "print('difference: ', rel_error(out, correct_out))"
   ]
  },
  {
   "cell_type": "markdown",
   "metadata": {},
   "source": [
    "# ReLU layer: backward\n",
    "Now implement the backward pass for the ReLU activation function in the `relu_backward` function and test your implementation using numeric gradient checking:"
   ]
  },
  {
   "cell_type": "code",
   "execution_count": 6,
   "metadata": {},
   "outputs": [
    {
     "name": "stdout",
     "output_type": "stream",
     "text": [
      "Testing relu_backward function:\n",
      "dx error:  3.2756178881533464e-12\n"
     ]
    }
   ],
   "source": [
    "x = np.random.randn(10, 10)\n",
    "dout = np.random.randn(*x.shape)\n",
    "\n",
    "dx_num = eval_numerical_gradient_array(lambda x: relu_forward(x)[0], x, dout)\n",
    "\n",
    "_, cache = relu_forward(x)\n",
    "dx = relu_backward(dout, cache)\n",
    "\n",
    "# The error should be around 1e-12\n",
    "print('Testing relu_backward function:')\n",
    "print('dx error: ', rel_error(dx_num, dx))"
   ]
  },
  {
   "cell_type": "markdown",
   "metadata": {},
   "source": [
    "# \"Sandwich\" layers\n",
    "There are some common patterns of layers that are frequently used in neural nets. For example, affine layers are frequently followed by a ReLU nonlinearity. To make these common patterns easy, we define several convenience layers in the file `exercise_code/layer_utils.py`.\n",
    "\n",
    "For now take a look at the `affine_relu_forward` and `affine_relu_backward` functions, and run the following to numerically gradient check the backward pass:"
   ]
  },
  {
   "cell_type": "code",
   "execution_count": 7,
   "metadata": {},
   "outputs": [
    {
     "name": "stdout",
     "output_type": "stream",
     "text": [
      "Testing affine_relu_forward:\n",
      "dx error:  4.912551795527074e-10\n",
      "dw error:  1.022675514963477e-08\n",
      "db error:  1.586061606916936e-11\n"
     ]
    }
   ],
   "source": [
    "from exercise_code.layer_utils import affine_relu_forward, affine_relu_backward\n",
    "\n",
    "x = np.random.randn(2, 3, 4)\n",
    "w = np.random.randn(12, 10)\n",
    "b = np.random.randn(10)\n",
    "dout = np.random.randn(2, 10)\n",
    "\n",
    "out, cache = affine_relu_forward(x, w, b)\n",
    "dx, dw, db = affine_relu_backward(dout, cache)\n",
    "\n",
    "dx_num = eval_numerical_gradient_array(lambda x: affine_relu_forward(x, w, b)[0], x, dout)\n",
    "dw_num = eval_numerical_gradient_array(lambda w: affine_relu_forward(x, w, b)[0], w, dout)\n",
    "db_num = eval_numerical_gradient_array(lambda b: affine_relu_forward(x, w, b)[0], b, dout)\n",
    "\n",
    "print('Testing affine_relu_forward:')\n",
    "print('dx error: ', rel_error(dx_num, dx))\n",
    "print('dw error: ', rel_error(dw_num, dw))\n",
    "print('db error: ', rel_error(db_num, db))"
   ]
  },
  {
   "cell_type": "markdown",
   "metadata": {},
   "source": [
    "# Loss layers: Softmax\n",
    "You implemented this loss function in the last assignment, so we'll give them to you for free here. You should still make sure you understand how they work by looking at the implementations in `exercise_code/layers.py`.\n",
    "\n",
    "You can make sure that the implementations are correct by running the following:"
   ]
  },
  {
   "cell_type": "code",
   "execution_count": 8,
   "metadata": {},
   "outputs": [
    {
     "name": "stdout",
     "output_type": "stream",
     "text": [
      "\n",
      "Testing softmax_loss:\n",
      "loss:  2.3025684995821876\n",
      "dx error:  7.436226289582711e-09\n"
     ]
    }
   ],
   "source": [
    "num_classes, num_inputs = 10, 50\n",
    "x = 0.001 * np.random.randn(num_inputs, num_classes)\n",
    "y = np.random.randint(num_classes, size=num_inputs)\n",
    "\n",
    "dx_num = eval_numerical_gradient(lambda x: softmax_loss(x, y)[0], x, verbose=False)\n",
    "loss, dx = softmax_loss(x, y)\n",
    "\n",
    "# Test softmax_loss function. Loss should be 2.3 and dx error should be 1e-8\n",
    "print('\\nTesting softmax_loss:')\n",
    "print('loss: ', loss)\n",
    "print('dx error: ', rel_error(dx_num, dx))"
   ]
  },
  {
   "cell_type": "markdown",
   "metadata": {},
   "source": [
    "# Two-layer network\n",
    "In the previous assignment you implemented a two-layer neural network in a single monolithic class. Now that you have implemented modular versions of the necessary layers, you will reimplement the two layer network using these modular implementations.\n",
    "\n",
    "Open the file `exercise_code/classifiers/fc_net.py` and complete the implementation of the `TwoLayerNet` class. This class will serve as a model for the other networks you will implement in this assignment, so read through it to make sure you understand the API. You can run the cell below to test your implementation."
   ]
  },
  {
   "cell_type": "code",
   "execution_count": 9,
   "metadata": {},
   "outputs": [],
   "source": [
    "# N, D, H, C = 3, 5, 50, 7\n",
    "# X = np.random.randn(N, D)\n",
    "# y = np.random.randint(C, size=N)\n",
    "\n",
    "# std = 1e-2\n",
    "# model = TwoLayerNet(input_dim=D, hidden_dim=H, num_classes=C, weight_scale=std)\n",
    "\n",
    "# print('Testing initialization ... ')\n",
    "# W1_std = abs(model.params['W1'].std() - std)\n",
    "# b1 = model.params['b1']\n",
    "# W2_std = abs(model.params['W2'].std() - std)\n",
    "# b2 = model.params['b2']\n",
    "# assert W1_std < std / 10, 'First layer weights do not seem right'\n",
    "# assert np.all(b1 == 0), 'First layer biases do not seem right'\n",
    "# assert W2_std < std / 10, 'Second layer weights do not seem right'\n",
    "# assert np.all(b2 == 0), 'Second layer biases do not seem right'\n",
    "\n",
    "# print('Testing test-time forward pass ... ')\n",
    "# model.params['W1'] = np.linspace(-0.7, 0.3, num=D*H).reshape(D, H)\n",
    "# model.params['b1'] = np.linspace(-0.1, 0.9, num=H)\n",
    "# model.params['W2'] = np.linspace(-0.3, 0.4, num=H*C).reshape(H, C)\n",
    "# model.params['b2'] = np.linspace(-0.9, 0.1, num=C)\n",
    "# X = np.linspace(-5.5, 4.5, num=N*D).reshape(D, N).T\n",
    "# scores = model.loss(X)\n",
    "# correct_scores = np.asarray(\n",
    "#   [[11.53165108,  12.2917344,   13.05181771,  13.81190102,  14.57198434, 15.33206765,  16.09215096],\n",
    "#    [12.05769098,  12.74614105,  13.43459113,  14.1230412,   14.81149128, 15.49994135,  16.18839143],\n",
    "#    [12.58373087,  13.20054771,  13.81736455,  14.43418138,  15.05099822, 15.66781506,  16.2846319 ]])\n",
    "# scores_diff = np.abs(scores - correct_scores).sum()\n",
    "# assert scores_diff < 1e-6, 'Problem with test-time forward pass'\n",
    "\n",
    "# print('Testing training loss')\n",
    "# y = np.asarray([0, 5, 1])\n",
    "# loss, grads = model.loss(X, y)\n",
    "# correct_loss = 3.4702243556\n",
    "# assert abs(loss - correct_loss) < 1e-8, 'Problem with training-time loss'\n",
    "\n",
    "# model.reg = 1.0\n",
    "# loss, grads = model.loss(X, y)\n",
    "# correct_loss = 26.5948426952\n",
    "# assert abs(loss - correct_loss) < 1e-8, 'Problem with regularization loss'\n",
    "\n",
    "# for reg in [0.0, 0.7]:\n",
    "#   print('Running numeric gradient check with reg = ', reg)\n",
    "#   model.reg = reg\n",
    "#   loss, grads = model.loss(X, y)\n",
    "#   assert grads != {}, 'Problem with gradients (empty dict)'\n",
    "\n",
    "#   for name in sorted(grads):\n",
    "#     f = lambda _: model.loss(X, y)[0]\n",
    "#     grad_num = eval_numerical_gradient(f, model.params[name], verbose=False)\n",
    "#     print('%s relative error: %.2e' % (name, rel_error(grad_num, grads[name])))"
   ]
  },
  {
   "cell_type": "markdown",
   "metadata": {},
   "source": [
    "# Solver\n",
    "In the previous assignment, the logic for training models was coupled to the models themselves. Following a more modular design, for this assignment we have split the logic for training models into a separate class.\n",
    "\n",
    "Open the file `exercise_code/solver.py` and read through it to familiarize yourself with the API. After doing so, use a `Solver` instance to train a `TwoLayerNet` that achieves at least `50%` accuracy on the validation set."
   ]
  },
  {
   "cell_type": "code",
   "execution_count": 10,
   "metadata": {},
   "outputs": [],
   "source": [
    "# model = TwoLayerNet(hidden_dim=150, reg=1e-3, weight_scale=1e-3)\n",
    "# solver = None\n",
    "\n",
    "# ##############################################################################\n",
    "# # TODO: Use a Solver instance to train a TwoLayerNet that achieves at least  #\n",
    "# # 50% accuracy on the validation set.                                        #\n",
    "# ##############################################################################\n",
    "# solver = Solver(model, data, \n",
    "#                 update_rule='sgd',\n",
    "#                 optim_config={'learning_rate':1e-3},\n",
    "#                 lr_decay=0.95,\n",
    "#                 batch_size=256,\n",
    "#                 num_epochs=10,\n",
    "#                 print_every=100)\n",
    "# solver.train()\n",
    "# ##############################################################################\n",
    "# #                             END OF YOUR CODE                               #\n",
    "# ##############################################################################"
   ]
  },
  {
   "cell_type": "code",
   "execution_count": 11,
   "metadata": {},
   "outputs": [],
   "source": [
    "# # Run this cell to visualize training loss and train / val accuracy\n",
    "\n",
    "# plt.subplot(2, 1, 1)\n",
    "# plt.title('Training loss')\n",
    "# plt.plot(solver.loss_history, 'o')\n",
    "# plt.xlabel('Iteration')\n",
    "\n",
    "# plt.subplot(2, 1, 2)\n",
    "# plt.title('Accuracy')\n",
    "# plt.plot(solver.train_acc_history, '-o', label='train')\n",
    "# plt.plot(solver.val_acc_history, '-o', label='val')\n",
    "# plt.plot([0.5] * len(solver.val_acc_history), 'k--')\n",
    "# plt.xlabel('Epoch')\n",
    "# plt.legend(loc='lower right')\n",
    "# plt.gcf().set_size_inches(15, 12)\n",
    "# plt.show()"
   ]
  },
  {
   "cell_type": "markdown",
   "metadata": {},
   "source": [
    "# Multilayer network\n",
    "Next you will implement a fully-connected network with an arbitrary number of hidden layers.\n",
    "\n",
    "Read through the `FullyConnectedNet` class in the file `exercise_code/classifiers/fc_net.py`.\n",
    "\n",
    "Implement the initialization, the forward pass, and the backward pass. For the moment don't worry about implementing batch normalization."
   ]
  },
  {
   "cell_type": "markdown",
   "metadata": {},
   "source": [
    "## Initial loss and gradient check"
   ]
  },
  {
   "cell_type": "markdown",
   "metadata": {},
   "source": [
    "As a sanity check, run the following to check the initial loss and to gradient check the network both with and without regularization. Do the initial losses seem reasonable?\n",
    "\n",
    "For gradient checking, you should expect to see errors around 1e-6 or less."
   ]
  },
  {
   "cell_type": "code",
   "execution_count": 12,
   "metadata": {
    "scrolled": true
   },
   "outputs": [
    {
     "name": "stdout",
     "output_type": "stream",
     "text": [
      "Running check with reg =  0\n",
      "Initial loss:  2.2218892492840725\n",
      "W1 relative error: 1.96e-05\n",
      "W2 relative error: 6.43e-06\n",
      "W3 relative error: 8.74e-10\n",
      "b1 relative error: 2.22e-03\n",
      "b2 relative error: 2.22e-08\n",
      "b3 relative error: 5.87e-10\n",
      "beta1 relative error: 4.10e-08\n",
      "beta2 relative error: 5.75e-09\n",
      "gamma1 relative error: 4.17e-08\n",
      "gamma2 relative error: 5.79e-09\n",
      "Running check with reg =  3.14\n",
      "Initial loss:  6.971239030402703\n",
      "W1 relative error: 2.10e-06\n",
      "W2 relative error: 9.16e-07\n",
      "W3 relative error: 3.79e-07\n",
      "b1 relative error: 8.88e-08\n",
      "b2 relative error: 4.44e-08\n",
      "b3 relative error: 9.04e-10\n",
      "beta1 relative error: 6.36e-09\n",
      "beta2 relative error: 2.76e-08\n",
      "gamma1 relative error: 1.99e-08\n",
      "gamma2 relative error: 1.74e-08\n"
     ]
    }
   ],
   "source": [
    "N, D, H1, H2, C = 2, 15, 20, 30, 10\n",
    "X = np.random.randn(N, D)\n",
    "y = np.random.randint(C, size=(N,))\n",
    "\n",
    "for reg in [0, 3.14]:\n",
    "  print('Running check with reg = ', reg)\n",
    "  model = FullyConnectedNet([H1, H2], input_dim=D, num_classes=C,\n",
    "                            reg=reg, weight_scale=5e-2, dtype=np.float64)\n",
    "\n",
    "  loss, grads = model.loss(X, y)\n",
    "  print('Initial loss: ', loss)\n",
    "\n",
    "  for name in sorted(grads):\n",
    "    f = lambda _: model.loss(X, y)[0]\n",
    "    grad_num = eval_numerical_gradient(f, model.params[name], verbose=False, h=1e-5)\n",
    "    print('%s relative error: %.2e' % (name, rel_error(grad_num, grads[name])))"
   ]
  },
  {
   "cell_type": "markdown",
   "metadata": {},
   "source": [
    "As another sanity check, make sure you can overfit a small dataset of 50 images. First we will try a three-layer network with 100 units in each hidden layer. You will need to tweak the learning rate and initialization scale, but you should be able to overfit and achieve 100% **training** accuracy within 20 epochs."
   ]
  },
  {
   "cell_type": "code",
   "execution_count": 13,
   "metadata": {
    "scrolled": false
   },
   "outputs": [
    {
     "name": "stdout",
     "output_type": "stream",
     "text": [
      "(Iteration 1 / 40) loss: 2.285339\n",
      "(Epoch 0 / 20) train acc: 0.280000; val_acc: 0.115000\n",
      "(Epoch 1 / 20) train acc: 0.420000; val_acc: 0.126000\n",
      "(Epoch 2 / 20) train acc: 0.520000; val_acc: 0.140000\n",
      "(Epoch 3 / 20) train acc: 0.520000; val_acc: 0.126000\n",
      "(Epoch 4 / 20) train acc: 0.600000; val_acc: 0.124000\n",
      "(Epoch 5 / 20) train acc: 0.740000; val_acc: 0.128000\n",
      "(Iteration 11 / 40) loss: 2.015446\n",
      "(Epoch 6 / 20) train acc: 0.720000; val_acc: 0.135000\n",
      "(Epoch 7 / 20) train acc: 0.660000; val_acc: 0.137000\n",
      "(Epoch 8 / 20) train acc: 0.740000; val_acc: 0.137000\n",
      "(Epoch 9 / 20) train acc: 0.760000; val_acc: 0.136000\n",
      "(Epoch 10 / 20) train acc: 0.800000; val_acc: 0.123000\n",
      "(Iteration 21 / 40) loss: 1.895905\n",
      "(Epoch 11 / 20) train acc: 0.800000; val_acc: 0.142000\n",
      "(Epoch 12 / 20) train acc: 0.760000; val_acc: 0.147000\n",
      "(Epoch 13 / 20) train acc: 0.780000; val_acc: 0.140000\n",
      "(Epoch 14 / 20) train acc: 0.780000; val_acc: 0.146000\n",
      "(Epoch 15 / 20) train acc: 0.820000; val_acc: 0.147000\n",
      "(Iteration 31 / 40) loss: 1.514753\n",
      "(Epoch 16 / 20) train acc: 0.800000; val_acc: 0.152000\n",
      "(Epoch 17 / 20) train acc: 0.860000; val_acc: 0.150000\n",
      "(Epoch 18 / 20) train acc: 0.880000; val_acc: 0.146000\n",
      "(Epoch 19 / 20) train acc: 0.880000; val_acc: 0.152000\n",
      "(Epoch 20 / 20) train acc: 0.880000; val_acc: 0.145000\n"
     ]
    },
    {
     "data": {
      "image/png": "[encoded data removed]",
      "text/plain": [
       "<Figure size 432x288 with 1 Axes>"
      ]
     },
     "metadata": {
      "needs_background": "light"
     },
     "output_type": "display_data"
    }
   ],
   "source": [
    "# TODO: Use a three-layer Net to overfit 50 training examples.\n",
    "\n",
    "num_train = 50\n",
    "small_data = {\n",
    "  'X_train': data['X_train'][:num_train],\n",
    "  'y_train': data['y_train'][:num_train],\n",
    "  'X_val': data['X_val'],\n",
    "  'y_val': data['y_val'],\n",
    "}\n",
    "\n",
    "#############################################################################\n",
    "# TODO: Maybe tweak values                                                  #\n",
    "#############################################################################\n",
    "weight_scale = 1e-2\n",
    "learning_rate = 1e-2\n",
    "\n",
    "model = FullyConnectedNet([100, 100],\n",
    "              weight_scale=weight_scale, dtype=np.float64)\n",
    "solver = Solver(model, small_data,\n",
    "                print_every=10, num_epochs=20, batch_size=25,\n",
    "                update_rule='sgd',\n",
    "                optim_config={\n",
    "                  'learning_rate': learning_rate,\n",
    "                }\n",
    "         )\n",
    "solver.train()\n",
    "##############################################################################\n",
    "#                             END OF YOUR CODE                               #\n",
    "##############################################################################\n",
    "\n",
    "plt.plot(solver.loss_history, 'o')\n",
    "plt.title('Training loss history')\n",
    "plt.xlabel('Iteration')\n",
    "plt.ylabel('Training loss')\n",
    "plt.show()"
   ]
  },
  {
   "cell_type": "markdown",
   "metadata": {},
   "source": [
    "Now try to use a five-layer network with 100 units on each layer to overfit 50 training examples. Again you will have to adjust the learning rate and weight initialization, but you should be able to achieve 100% training accuracy within 20 epochs."
   ]
  },
  {
   "cell_type": "code",
   "execution_count": 14,
   "metadata": {
    "scrolled": true
   },
   "outputs": [
    {
     "name": "stdout",
     "output_type": "stream",
     "text": [
      "(Iteration 1 / 80) loss: 2.305741\n",
      "(Epoch 0 / 20) train acc: 0.230000; val_acc: 0.116000\n",
      "(Epoch 1 / 20) train acc: 0.520000; val_acc: 0.159000\n",
      "(Epoch 2 / 20) train acc: 0.600000; val_acc: 0.156000\n",
      "(Iteration 11 / 80) loss: 1.954375\n",
      "(Epoch 3 / 20) train acc: 0.720000; val_acc: 0.161000\n",
      "(Epoch 4 / 20) train acc: 0.760000; val_acc: 0.199000\n",
      "(Epoch 5 / 20) train acc: 0.760000; val_acc: 0.193000\n",
      "(Iteration 21 / 80) loss: 1.252960\n",
      "(Epoch 6 / 20) train acc: 0.810000; val_acc: 0.200000\n",
      "(Epoch 7 / 20) train acc: 0.820000; val_acc: 0.191000\n",
      "(Iteration 31 / 80) loss: 1.235389\n",
      "(Epoch 8 / 20) train acc: 0.840000; val_acc: 0.192000\n",
      "(Epoch 9 / 20) train acc: 0.880000; val_acc: 0.201000\n",
      "(Epoch 10 / 20) train acc: 0.920000; val_acc: 0.219000\n",
      "(Iteration 41 / 80) loss: 0.732799\n",
      "(Epoch 11 / 20) train acc: 0.920000; val_acc: 0.186000\n",
      "(Epoch 12 / 20) train acc: 0.970000; val_acc: 0.204000\n",
      "(Iteration 51 / 80) loss: 0.678496\n",
      "(Epoch 13 / 20) train acc: 0.980000; val_acc: 0.208000\n",
      "(Epoch 14 / 20) train acc: 0.980000; val_acc: 0.203000\n",
      "(Epoch 15 / 20) train acc: 0.980000; val_acc: 0.202000\n",
      "(Iteration 61 / 80) loss: 0.634654\n",
      "(Epoch 16 / 20) train acc: 1.000000; val_acc: 0.208000\n",
      "(Epoch 17 / 20) train acc: 0.990000; val_acc: 0.204000\n",
      "(Iteration 71 / 80) loss: 0.229427\n",
      "(Epoch 18 / 20) train acc: 1.000000; val_acc: 0.207000\n",
      "(Epoch 19 / 20) train acc: 1.000000; val_acc: 0.199000\n",
      "(Epoch 20 / 20) train acc: 1.000000; val_acc: 0.198000\n"
     ]
    },
    {
     "data": {
      "image/png": "[encoded data removed]",
      "text/plain": [
       "<Figure size 432x288 with 1 Axes>"
      ]
     },
     "metadata": {
      "needs_background": "light"
     },
     "output_type": "display_data"
    }
   ],
   "source": [
    "# TODO: Use a five-layer Net to overfit 50 training examples.\n",
    "\n",
    "num_train = 100\n",
    "small_data = {\n",
    "    'X_train': data['X_train'][:num_train],\n",
    "    'y_train': data['y_train'][:num_train],\n",
    "    'X_val': data['X_val'],\n",
    "    'y_val': data['y_val'],\n",
    "}\n",
    "\n",
    "#############################################################################\n",
    "# TODO: Maybe tweak values                                                  #\n",
    "#############################################################################\n",
    "learning_rate = 3e-2\n",
    "weight_scale = 2e-2\n",
    "model = FullyConnectedNet([100, 100, 100, 100],\n",
    "                weight_scale=weight_scale, dtype=np.float64)\n",
    "solver = Solver(model, small_data,\n",
    "                print_every=10, num_epochs=20, batch_size=25,\n",
    "                update_rule='sgd',\n",
    "                optim_config={\n",
    "                  'learning_rate': learning_rate,\n",
    "                }\n",
    "         )\n",
    "solver.train()\n",
    "\n",
    "##############################################################################\n",
    "#                             END OF YOUR CODE                               #\n",
    "##############################################################################\n",
    "\n",
    "#####################################################################################\n",
    "\n",
    "plt.plot(solver.loss_history, 'o')\n",
    "plt.title('Training loss history')\n",
    "plt.xlabel('Iteration')\n",
    "plt.ylabel('Training loss')\n",
    "plt.show()"
   ]
  },
  {
   "cell_type": "markdown",
   "metadata": {},
   "source": [
    "<div class=\"alert alert-info\">\n",
    "    <h3>Inline Question</h3>\n",
    "    <p>Did you notice anything about the comparative difficulty of training the three-layer net vs training the five layer net?</p>\n",
    "</div>\n"
   ]
  },
  {
   "cell_type": "markdown",
   "metadata": {},
   "source": [
    "# Update rules\n",
    "So far we have used vanilla stochastic gradient descent (SGD) as our update rule. More sophisticated update rules can make it easier to train deep networks. We will implement a few of the most commonly used update rules and compare them to vanilla SGD."
   ]
  },
  {
   "cell_type": "markdown",
   "metadata": {},
   "source": [
    "# SGD+Momentum\n",
    "Stochastic gradient descent with momentum is a widely used update rule that tends to make deep networks converge faster than vanilla stochstic gradient descent.\n",
    "\n",
    "Open the file `exercise_code/optim.py` and read the documentation at the top of the file to make sure you understand the API. Implement the SGD+momentum update rule in the function `sgd_momentum` and run the following to check your implementation. You should see errors less than 1e-8."
   ]
  },
  {
   "cell_type": "code",
   "execution_count": 15,
   "metadata": {},
   "outputs": [],
   "source": [
    "# from exercise_code.optim import sgd_momentum\n",
    "\n",
    "# N, D = 4, 5\n",
    "# w = np.linspace(-0.4, 0.6, num=N*D).reshape(N, D)\n",
    "# dw = np.linspace(-0.6, 0.4, num=N*D).reshape(N, D)\n",
    "# v = np.linspace(0.6, 0.9, num=N*D).reshape(N, D)\n",
    "\n",
    "# config = {'learning_rate': 1e-3, 'velocity': v}\n",
    "# next_w, _ = sgd_momentum(w, dw, config=config)\n",
    "\n",
    "# expected_next_w = np.asarray([\n",
    "#   [ 0.1406,      0.20738947,  0.27417895,  0.34096842,  0.40775789],\n",
    "#   [ 0.47454737,  0.54133684,  0.60812632,  0.67491579,  0.74170526],\n",
    "#   [ 0.80849474,  0.87528421,  0.94207368,  1.00886316,  1.07565263],\n",
    "#   [ 1.14244211,  1.20923158,  1.27602105,  1.34281053,  1.4096    ]])\n",
    "# expected_velocity = np.asarray([\n",
    "#   [ 0.5406,      0.55475789,  0.56891579, 0.58307368,  0.59723158],\n",
    "#   [ 0.61138947,  0.62554737,  0.63970526,  0.65386316,  0.66802105],\n",
    "#   [ 0.68217895,  0.69633684,  0.71049474,  0.72465263,  0.73881053],\n",
    "#   [ 0.75296842,  0.76712632,  0.78128421,  0.79544211,  0.8096    ]])\n",
    "\n",
    "# print('next_w error: ', rel_error(next_w, expected_next_w))\n",
    "# print('velocity error: ', rel_error(expected_velocity, config['velocity']))"
   ]
  },
  {
   "cell_type": "markdown",
   "metadata": {},
   "source": [
    "Once you have done so, run the following to train a six-layer network with both SGD and SGD+momentum. You should see the SGD+momentum update rule converge faster."
   ]
  },
  {
   "cell_type": "code",
   "execution_count": 16,
   "metadata": {
    "scrolled": false
   },
   "outputs": [],
   "source": [
    "# num_train = 4000\n",
    "# small_data = {\n",
    "#     'X_train': data['X_train'][:num_train],\n",
    "#     'y_train': data['y_train'][:num_train],\n",
    "#     'X_val': data['X_val'],\n",
    "#     'y_val': data['y_val'],\n",
    "# }\n",
    "\n",
    "# solvers = {}\n",
    "\n",
    "# for update_rule in ['sgd', 'sgd_momentum']:\n",
    "#     print('running with ', update_rule)\n",
    "#     model = FullyConnectedNet([100, 100, 100, 100, 100], weight_scale=3e-2)\n",
    "\n",
    "#     solver = Solver(model, small_data,\n",
    "#                     num_epochs=10, batch_size=100,\n",
    "#                     update_rule=update_rule,\n",
    "#                     optim_config={'learning_rate': 1e-2},\n",
    "#                     verbose=True)\n",
    "#     solvers[update_rule] = solver\n",
    "#     solver.train()\n",
    "#     print()\n",
    "\n",
    "# plt.subplot(3, 1, 1)\n",
    "# plt.title('Training loss')\n",
    "# plt.xlabel('Iteration')\n",
    "\n",
    "# plt.subplot(3, 1, 2)\n",
    "# plt.title('Training accuracy')\n",
    "# plt.xlabel('Epoch')\n",
    "\n",
    "# plt.subplot(3, 1, 3)\n",
    "# plt.title('Validation accuracy')\n",
    "# plt.xlabel('Epoch')\n",
    "\n",
    "# for update_rule, solver in solvers.items():\n",
    "#     plt.subplot(3, 1, 1)\n",
    "#     plt.plot(solver.loss_history, 'o', label=update_rule)\n",
    "  \n",
    "#     plt.subplot(3, 1, 2)\n",
    "#     plt.plot(solver.train_acc_history, '-o', label=update_rule)\n",
    "\n",
    "#     plt.subplot(3, 1, 3)\n",
    "#     plt.plot(solver.val_acc_history, '-o', label=update_rule)\n",
    "  \n",
    "# for i in [1, 2, 3]:\n",
    "#     plt.subplot(3, 1, i)\n",
    "#     plt.legend(loc='upper center', ncol=4)\n",
    "# plt.gcf().set_size_inches(15, 15)\n",
    "# plt.show()"
   ]
  },
  {
   "cell_type": "markdown",
   "metadata": {},
   "source": [
    "# Adam\n",
    "Adam [1] is an update rule that sets per-parameter learning rates by using a running average of the second moments of gradients.\n",
    "\n",
    "In the file `exercise_code/optim.py`, we have implemented the update rule `adam` for you. Check this implementation and make sure you understand what the optimizer is doing. Then train the fully connected net below to see how Adam affects the learning process.\n",
    "\n",
    "[1] Diederik Kingma and Jimmy Ba, \"Adam: A Method for Stochastic Optimization\", ICLR 2015."
   ]
  },
  {
   "cell_type": "code",
   "execution_count": 17,
   "metadata": {},
   "outputs": [],
   "source": [
    "# learning_rates = {'adam': 1e-3}\n",
    "# update_rule = 'adam'\n",
    "# print('running with ', update_rule)\n",
    "# model = FullyConnectedNet([100, 100, 100, 100, 100], weight_scale=5e-2)\n",
    "\n",
    "# solver = Solver(model, small_data,\n",
    "#               num_epochs=5, batch_size=100,\n",
    "#               update_rule=update_rule,\n",
    "#               optim_config={\n",
    "#                 'learning_rate': learning_rates[update_rule]\n",
    "#               },\n",
    "#               verbose=True)\n",
    "# solvers[update_rule] = solver\n",
    "# solver.train()\n",
    "# print()\n",
    "\n",
    "# plt.subplot(3, 1, 1)\n",
    "# plt.title('Training loss')\n",
    "# plt.xlabel('Iteration')\n",
    "\n",
    "# plt.subplot(3, 1, 2)\n",
    "# plt.title('Training accuracy')\n",
    "# plt.xlabel('Epoch')\n",
    "\n",
    "# plt.subplot(3, 1, 3)\n",
    "# plt.title('Validation accuracy')\n",
    "# plt.xlabel('Epoch')\n",
    "\n",
    "# for update_rule, solver in solvers.items():\n",
    "#     plt.subplot(3, 1, 1)\n",
    "#     plt.plot(solver.loss_history, 'o', label=update_rule)\n",
    "  \n",
    "#     plt.subplot(3, 1, 2)\n",
    "#     plt.plot(solver.train_acc_history, '-o', label=update_rule)\n",
    "\n",
    "#     plt.subplot(3, 1, 3)\n",
    "#     plt.plot(solver.val_acc_history, '-o', label=update_rule)\n",
    "  \n",
    "# for i in [1, 2, 3]:\n",
    "#     plt.subplot(3, 1, i)\n",
    "#     plt.legend(loc='upper center', ncol=4)\n",
    "    \n",
    "# plt.gcf().set_size_inches(15, 15)\n",
    "# plt.show()"
   ]
  },
  {
   "cell_type": "markdown",
   "metadata": {},
   "source": [
    "# Train a good model!\n",
    "Train the best fully-connected model that you can on CIFAR-10, storing your best model in the `best_model` variable. We require you to get at least __50%__ accuracy on the validation set using a fully-connected net.\n",
    "\n",
    "You might find it useful to complete the `2_BatchNormalization.ipynb` and the `3_Dropout.ipynb` notebooks before completing this part, since these techniques can help you train powerful models."
   ]
  },
  {
   "cell_type": "code",
   "execution_count": 24,
   "metadata": {
    "scrolled": true
   },
   "outputs": [
    {
     "name": "stdout",
     "output_type": "stream",
     "text": [
      "(Iteration 1 / 4000) loss: 2.333792\n",
      "(Epoch 0 / 25) train acc: 0.177000; val_acc: 0.167000\n",
      "(Iteration 101 / 4000) loss: 1.517885\n",
      "(Epoch 1 / 25) train acc: 0.510000; val_acc: 0.464000\n",
      "(Iteration 201 / 4000) loss: 1.385254\n",
      "(Iteration 301 / 4000) loss: 1.349805\n",
      "(Epoch 2 / 25) train acc: 0.583000; val_acc: 0.495000\n",
      "(Iteration 401 / 4000) loss: 1.140996\n",
      "(Epoch 3 / 25) train acc: 0.604000; val_acc: 0.501000\n",
      "(Iteration 501 / 4000) loss: 1.081647\n",
      "(Iteration 601 / 4000) loss: 1.013555\n",
      "(Epoch 4 / 25) train acc: 0.648000; val_acc: 0.516000\n",
      "(Iteration 701 / 4000) loss: 1.014191\n",
      "(Epoch 5 / 25) train acc: 0.677000; val_acc: 0.541000\n",
      "(Iteration 801 / 4000) loss: 0.868123\n",
      "(Iteration 901 / 4000) loss: 0.846687\n",
      "(Epoch 6 / 25) train acc: 0.738000; val_acc: 0.545000\n",
      "(Iteration 1001 / 4000) loss: 0.820189\n",
      "(Iteration 1101 / 4000) loss: 0.811331\n",
      "(Epoch 7 / 25) train acc: 0.734000; val_acc: 0.535000\n",
      "(Iteration 1201 / 4000) loss: 0.645991\n",
      "(Epoch 8 / 25) train acc: 0.777000; val_acc: 0.544000\n",
      "(Iteration 1301 / 4000) loss: 0.659572\n",
      "(Iteration 1401 / 4000) loss: 0.544184\n",
      "(Epoch 9 / 25) train acc: 0.796000; val_acc: 0.527000\n",
      "(Iteration 1501 / 4000) loss: 0.598894\n",
      "(Epoch 10 / 25) train acc: 0.811000; val_acc: 0.513000\n",
      "(Iteration 1601 / 4000) loss: 0.438350\n",
      "(Iteration 1701 / 4000) loss: 0.516809\n",
      "(Epoch 11 / 25) train acc: 0.828000; val_acc: 0.521000\n",
      "(Iteration 1801 / 4000) loss: 0.391739\n",
      "(Iteration 1901 / 4000) loss: 0.432575\n",
      "(Epoch 12 / 25) train acc: 0.867000; val_acc: 0.532000\n",
      "(Iteration 2001 / 4000) loss: 0.325426\n",
      "(Epoch 13 / 25) train acc: 0.878000; val_acc: 0.521000\n",
      "(Iteration 2101 / 4000) loss: 0.315391\n",
      "(Iteration 2201 / 4000) loss: 0.277764\n",
      "(Epoch 14 / 25) train acc: 0.891000; val_acc: 0.528000\n",
      "(Iteration 2301 / 4000) loss: 0.253983\n",
      "(Epoch 15 / 25) train acc: 0.875000; val_acc: 0.514000\n",
      "(Iteration 2401 / 4000) loss: 0.277787\n",
      "(Iteration 2501 / 4000) loss: 0.278016\n",
      "(Epoch 16 / 25) train acc: 0.911000; val_acc: 0.517000\n",
      "(Iteration 2601 / 4000) loss: 0.221584\n",
      "(Iteration 2701 / 4000) loss: 0.201890\n",
      "(Epoch 17 / 25) train acc: 0.929000; val_acc: 0.525000\n",
      "(Iteration 2801 / 4000) loss: 0.191999\n",
      "(Epoch 18 / 25) train acc: 0.915000; val_acc: 0.516000\n",
      "(Iteration 2901 / 4000) loss: 0.171428\n",
      "(Iteration 3001 / 4000) loss: 0.144568\n",
      "(Epoch 19 / 25) train acc: 0.922000; val_acc: 0.540000\n",
      "(Iteration 3101 / 4000) loss: 0.183790\n",
      "(Epoch 20 / 25) train acc: 0.896000; val_acc: 0.533000\n",
      "(Iteration 3201 / 4000) loss: 0.107028\n",
      "(Iteration 3301 / 4000) loss: 0.179111\n",
      "(Epoch 21 / 25) train acc: 0.923000; val_acc: 0.519000\n",
      "(Iteration 3401 / 4000) loss: 0.124411\n",
      "(Iteration 3501 / 4000) loss: 0.118732\n",
      "(Epoch 22 / 25) train acc: 0.924000; val_acc: 0.511000\n",
      "(Iteration 3601 / 4000) loss: 0.145076\n",
      "(Epoch 23 / 25) train acc: 0.944000; val_acc: 0.535000\n",
      "(Iteration 3701 / 4000) loss: 0.088903\n",
      "(Iteration 3801 / 4000) loss: 0.103861\n",
      "(Epoch 24 / 25) train acc: 0.949000; val_acc: 0.532000\n",
      "(Iteration 3901 / 4000) loss: 0.119418\n",
      "(Epoch 25 / 25) train acc: 0.941000; val_acc: 0.530000\n"
     ]
    }
   ],
   "source": [
    "best_model = None\n",
    "\n",
    "################################################################################\n",
    "# TODO: Train the best FullyConnectedNet that you can on CIFAR-10. You might   #\n",
    "# batch normalization and dropout useful. Store your best model in the         #\n",
    "# best_model variable.                                                         #\n",
    "# Note that dropout is not required to pass beyond the linear scoring regime   #\n",
    "################################################################################\n",
    "\n",
    "\n",
    "learning_rate = [1e-01, 2e-02,3e-03] \n",
    "weight_scale = [1e-01, 2e-02,3e-03] \n",
    "acc = 0\n",
    "learning_rate = 4.5e-04 \n",
    "weight_scale = 3.5e-02\n",
    "model = FullyConnectedNet([500, 400, 250, 100],\n",
    "        weight_scale=weight_scale,use_batchnorm=True, dtype=np.float64)\n",
    "\n",
    "solver = Solver(model, data,\n",
    "        print_every=100, num_epochs = 25, batch_size=300,\n",
    "        update_rule='adam',\n",
    "        optim_config={\n",
    "          'learning_rate': learning_rate\n",
    "        }\n",
    " )\n",
    "\n",
    "solver.train()\n",
    "\n",
    "best_model = model\n",
    "\n",
    "################################################################################\n",
    "#                              END OF YOUR CODE                                #\n",
    "################################################################################"
   ]
  },
  {
   "cell_type": "markdown",
   "metadata": {},
   "source": [
    "# Test your model\n",
    "Run your best model on the validation and test sets. You should achieve score of above __50%__ accuracy on the validation set."
   ]
  },
  {
   "cell_type": "code",
   "execution_count": 19,
   "metadata": {},
   "outputs": [
    {
     "name": "stdout",
     "output_type": "stream",
     "text": [
      "Validation set accuracy:  0.556\n",
      "Test set accuracy:  0.549\n"
     ]
    }
   ],
   "source": [
    "X_test = data['X_test']\n",
    "X_val = data['X_val']\n",
    "y_val = data['y_val']\n",
    "y_test = data['y_test']\n",
    "y_test_pred = np.argmax(best_model.loss(X_test), axis=1)\n",
    "y_val_pred = np.argmax(best_model.loss(X_val), axis=1)\n",
    "print('Validation set accuracy: ', (y_val_pred == y_val).mean())\n",
    "print('Test set accuracy: ', (y_test_pred == y_test).mean())"
   ]
  },
  {
   "cell_type": "markdown",
   "metadata": {},
   "source": [
    "## Save the model\n",
    "\n",
    "When you are satisfied with your training, save the model for submission."
   ]
  },
  {
   "cell_type": "markdown",
   "metadata": {},
   "source": [
    "<div class=\"alert alert-danger\">\n",
    "    <h3>Warning</h3>\n",
    "    <p>You might get an error like this:</p>\n",
    "    <p>PicklingError: Can't pickle <class 'exercise_code.classifiers.softmax.SoftmaxClassifier'>: it's not the same object as exercise_code.classifiers.softmax.SoftmaxClassifier</p>\n",
    "    <p>The reason is that we are using autoreload and working on this class during the notebook session. If you get this error simply restart the kernel and rerun the whole script (Kernel -> Restart & Run All) or only the important cells for generating your model.</p>\n",
    "</div>"
   ]
  },
  {
   "cell_type": "code",
   "execution_count": 22,
   "metadata": {},
   "outputs": [],
   "source": [
    "from exercise_code.model_savers import save_fully_connected_net\n",
    "save_fully_connected_net(best_model)"
   ]
  }
 ],
 "metadata": {
  "kernelspec": {
   "display_name": "Python 3",
   "language": "python",
   "name": "python3"
  },
  "language_info": {
   "codemirror_mode": {
    "name": "ipython",
    "version": 3
   },
   "file_extension": ".py",
   "mimetype": "text/x-python",
   "name": "python",
   "nbconvert_exporter": "python",
   "pygments_lexer": "ipython3",
   "version": "3.7.3"
  }
 },
 "nbformat": 4,
 "nbformat_minor": 1
}
